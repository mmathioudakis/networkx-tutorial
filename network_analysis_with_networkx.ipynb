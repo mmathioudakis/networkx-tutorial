{
 "cells": [
  {
   "cell_type": "markdown",
   "metadata": {},
   "source": [
    "## Introduction\n",
    "\n",
    "* What is network analysis?\n",
    "\n",
    "* What is networkx?"
   ]
  },
  {
   "cell_type": "markdown",
   "metadata": {},
   "source": [
    "## A simple example"
   ]
  },
  {
   "cell_type": "markdown",
   "metadata": {},
   "source": [
    "## Loading a graph from a file"
   ]
  },
  {
   "cell_type": "markdown",
   "metadata": {},
   "source": [
    "## Drawing graphs\n",
    "\n",
    "Idea: demonstrate drawing examples that will be used later.\n",
    "\n",
    "### Customized Nodes\n",
    "### Customized Edges\n",
    "### Customized Layout"
   ]
  },
  {
   "cell_type": "markdown",
   "metadata": {},
   "source": [
    "## Simple operations on graphs\n",
    "\n",
    "Example: Friendship network. Edge weights indicate messages exchanged. Nodes associated with name of workplace/department and position (clerk / manager).\n",
    "\n",
    "* How many nodes? How many edges?\n",
    "* How many nodes with attribute X = x?\n",
    "* What is the most common value for attribute X?\n",
    "* ...\n",
    "\n",
    "* What is the total number of messages exchanged in the network?\n",
    "* What is the total & average number of messages between people with attribute X?\n",
    "* ...\n",
    "\n",
    "* What is the most active node (in terms of people / messages)?\n",
    "* ..."
   ]
  },
  {
   "cell_type": "markdown",
   "metadata": {},
   "source": [
    "## More complex graphs\n",
    "\n",
    "* Directed graphs -- example\n",
    "* Multi-graphs -- example"
   ]
  },
  {
   "cell_type": "markdown",
   "metadata": {},
   "source": [
    "## More advanced - Traversal, Distance, Centrality\n",
    "\n",
    "* Path lengths\n",
    "* Radius & Diameter\n",
    "* Traversals\n",
    "* Random Walk & Cascade setting\n",
    "* Centrality measures"
   ]
  },
  {
   "cell_type": "code",
   "execution_count": null,
   "metadata": {
    "collapsed": true
   },
   "outputs": [],
   "source": []
  },
  {
   "cell_type": "markdown",
   "metadata": {},
   "source": []
  },
  {
   "cell_type": "markdown",
   "metadata": {},
   "source": [
    "## Setup"
   ]
  },
  {
   "cell_type": "markdown",
   "metadata": {},
   "source": [
    "Run these cells before other code cells."
   ]
  },
  {
   "cell_type": "code",
   "execution_count": 1,
   "metadata": {
    "collapsed": true
   },
   "outputs": [],
   "source": [
    "import networkx as nx\n",
    "import numpy as np"
   ]
  },
  {
   "cell_type": "code",
   "execution_count": null,
   "metadata": {
    "collapsed": true
   },
   "outputs": [],
   "source": []
  }
 ],
 "metadata": {
  "kernelspec": {
   "display_name": "Python 3",
   "language": "python",
   "name": "python3"
  },
  "language_info": {
   "codemirror_mode": {
    "name": "ipython",
    "version": 3
   },
   "file_extension": ".py",
   "mimetype": "text/x-python",
   "name": "python",
   "nbconvert_exporter": "python",
   "pygments_lexer": "ipython3",
   "version": "3.4.3"
  }
 },
 "nbformat": 4,
 "nbformat_minor": 0
}
